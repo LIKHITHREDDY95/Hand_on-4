{
  "nbformat": 4,
  "nbformat_minor": 0,
  "metadata": {
    "colab": {
      "provenance": [],
      "authorship_tag": "ABX9TyNW+gGYjE/DUjsJUol9jCYP",
      "include_colab_link": true
    },
    "kernelspec": {
      "name": "python3",
      "display_name": "Python 3"
    },
    "language_info": {
      "name": "python"
    }
  },
  "cells": [
    {
      "cell_type": "markdown",
      "metadata": {
        "id": "view-in-github",
        "colab_type": "text"
      },
      "source": [
        "<a href=\"https://colab.research.google.com/github/LIKHITHREDDY95/Hand_on-4/blob/main/problem2.ipynb\" target=\"_parent\"><img src=\"https://colab.research.google.com/assets/colab-badge.svg\" alt=\"Open In Colab\"/></a>"
      ]
    },
    {
      "cell_type": "code",
      "execution_count": 1,
      "metadata": {
        "colab": {
          "base_uri": "https://localhost:8080/"
        },
        "id": "xSyjvVHzO2J6",
        "outputId": "8ed1c815-8f1a-432a-8804-3e4c44a8b5f2"
      },
      "outputs": [
        {
          "output_type": "stream",
          "name": "stdout",
          "text": [
            "\n",
            "Test case 1:\n",
            "Input:  [2, 2, 2, 2, 2]\n",
            "Output: [2]\n",
            "\n",
            "Test case 2:\n",
            "Input:  [1, 2, 2, 3, 4, 4, 4, 5, 5]\n",
            "Output: [1, 2, 2, 3, 4, 5, 5]\n",
            "\n",
            "Test case 3:\n",
            "Input:  [1, 1, 1, 2, 2, 3, 3, 3, 3, 4, 5, 5]\n",
            "Output: [1, 2, 2, 3, 4, 5, 5]\n",
            "\n",
            "Test case 4:\n",
            "Input:  [1, 2, 3, 4, 5]\n",
            "Output: [1, 2, 3, 4, 5]\n",
            "\n",
            "Test case 5:\n",
            "Input:  []\n",
            "Output: []\n",
            "\n",
            "Test case 6:\n",
            "Input:  [1]\n",
            "Output: [1]\n",
            "\n",
            "Test case 7:\n",
            "Input:  [1, 1, 2, 3, 3, 3, 4, 5, 5, 5, 5]\n",
            "Output: [1, 1, 2, 3, 4, 5]\n"
          ]
        }
      ],
      "source": [
        "def remove_duplicates(array):\n",
        "    if not array:\n",
        "        return array\n",
        "\n",
        "    # Define states\n",
        "    UNIQUE = 0\n",
        "    POTENTIAL_DUPLICATE = 1\n",
        "    CONFIRMED_DUPLICATE = 2\n",
        "\n",
        "    state = UNIQUE\n",
        "    write_index = 1\n",
        "    potential_unique = None\n",
        "\n",
        "    for read_index in range(1, len(array)):\n",
        "        current = array[read_index]\n",
        "\n",
        "        if state == UNIQUE:\n",
        "            if current == array[write_index - 1]:\n",
        "                state = POTENTIAL_DUPLICATE\n",
        "                potential_unique = current\n",
        "            else:\n",
        "                array[write_index] = current\n",
        "                write_index += 1\n",
        "\n",
        "        elif state == POTENTIAL_DUPLICATE:\n",
        "            if current == potential_unique:\n",
        "                state = CONFIRMED_DUPLICATE\n",
        "            else:\n",
        "                array[write_index] = potential_unique\n",
        "                write_index += 1\n",
        "                array[write_index] = current\n",
        "                write_index += 1\n",
        "                state = UNIQUE\n",
        "\n",
        "        elif state == CONFIRMED_DUPLICATE:\n",
        "            if current != potential_unique:\n",
        "                array[write_index] = current\n",
        "                write_index += 1\n",
        "                state = UNIQUE\n",
        "\n",
        "\n",
        "    if state == POTENTIAL_DUPLICATE:\n",
        "        array[write_index] = potential_unique\n",
        "        write_index += 1\n",
        "\n",
        "    return array[:write_index]\n",
        "\n",
        "# Test the function\n",
        "test_cases = [\n",
        "    [2, 2, 2, 2, 2],\n",
        "    [1, 2, 2, 3, 4, 4, 4, 5, 5],\n",
        "    [1, 1, 1, 2, 2, 3, 3, 3, 3, 4, 5, 5],\n",
        "    [1, 2, 3, 4, 5],\n",
        "    [],\n",
        "    [1],\n",
        "    [1, 1, 2, 3, 3, 3, 4, 5, 5, 5, 5]\n",
        "]\n",
        "\n",
        "for i, case in enumerate(test_cases):\n",
        "    original = case.copy()\n",
        "    result = remove_duplicates(case)\n",
        "    print(f\"\\nTest case {i+1}:\")\n",
        "    print(f\"Input:  {original}\")\n",
        "    print(f\"Output: {result}\")"
      ]
    },
    {
      "cell_type": "code",
      "source": [],
      "metadata": {
        "id": "4TisTEwAPy_3"
      },
      "execution_count": null,
      "outputs": []
    }
  ]
}