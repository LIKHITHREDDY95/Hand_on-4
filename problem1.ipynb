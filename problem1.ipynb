{
  "nbformat": 4,
  "nbformat_minor": 0,
  "metadata": {
    "colab": {
      "provenance": [],
      "authorship_tag": "ABX9TyMLv0YYMFP43zhbVjt2wHzr",
      "include_colab_link": true
    },
    "kernelspec": {
      "name": "python3",
      "display_name": "Python 3"
    },
    "language_info": {
      "name": "python"
    }
  },
  "cells": [
    {
      "cell_type": "markdown",
      "metadata": {
        "id": "view-in-github",
        "colab_type": "text"
      },
      "source": [
        "<a href=\"https://colab.research.google.com/github/LIKHITHREDDY95/Hand_on-4/blob/main/problem1.ipynb\" target=\"_parent\"><img src=\"https://colab.research.google.com/assets/colab-badge.svg\" alt=\"Open In Colab\"/></a>"
      ]
    },
    {
      "cell_type": "code",
      "execution_count": 1,
      "metadata": {
        "id": "nvXPIrswOE1h",
        "outputId": "ff393105-6244-4b68-b11f-a901609209f7",
        "colab": {
          "base_uri": "https://localhost:8080/"
        }
      },
      "outputs": [
        {
          "output_type": "stream",
          "name": "stdout",
          "text": [
            "Input 1:\n",
            "K = 3, N = 4\n",
            "Arrays: [[1, 3, 5, 7], [2, 4, 6, 8], [0, 9, 10, 11]]\n",
            "Output: [0, 1, 2, 3, 4, 5, 6, 7, 8, 9, 10, 11]\n",
            "\n",
            "Input 2:\n",
            "K = 3, N = 3\n",
            "Arrays: [[1, 3, 7], [2, 4, 8], [9, 10, 11]]\n",
            "Output: [1, 2, 3, 4, 7, 8, 9, 10, 11]\n"
          ]
        }
      ],
      "source": [
        "def merge_two_sorted_arrays(arr1, arr2):\n",
        "    merged = []\n",
        "    i, j = 0, 0\n",
        "    while i < len(arr1) and j < len(arr2):\n",
        "        if arr1[i] <= arr2[j]:\n",
        "            merged.append(arr1[i])\n",
        "            i += 1\n",
        "        else:\n",
        "            merged.append(arr2[j])\n",
        "            j += 1\n",
        "    merged.extend(arr1[i:])\n",
        "    merged.extend(arr2[j:])\n",
        "    return merged\n",
        "\n",
        "\n",
        "def merge_k_sorted_arrays(arrays):\n",
        "    if not arrays:\n",
        "        return []\n",
        "    if len(arrays) == 1:\n",
        "        return arrays[0]\n",
        "\n",
        "    mid = len(arrays) // 2\n",
        "    left = merge_k_sorted_arrays(arrays[:mid])\n",
        "    right = merge_k_sorted_arrays(arrays[mid:])\n",
        "    return merge_two_sorted_arrays(left, right)\n",
        "\n",
        "\n",
        "\n",
        "K1, N1 = 3, 4\n",
        "arrays1 = [[1, 3, 5, 7], [2, 4, 6, 8], [0, 9, 10, 11]]\n",
        "print(\"Input 1:\")\n",
        "print(f\"K = {K1}, N = {N1}\")\n",
        "print(f\"Arrays: {arrays1}\")\n",
        "print(f\"Output: {merge_k_sorted_arrays(arrays1)}\")\n",
        "\n",
        "K2, N2 = 3, 3\n",
        "arrays2 = [[1, 3, 7], [2, 4, 8], [9, 10, 11]]\n",
        "print(\"\\nInput 2:\")\n",
        "print(f\"K = {K2}, N = {N2}\")\n",
        "print(f\"Arrays: {arrays2}\")\n",
        "print(f\"Output: {merge_k_sorted_arrays(arrays2)}\")"
      ]
    }
  ]
}