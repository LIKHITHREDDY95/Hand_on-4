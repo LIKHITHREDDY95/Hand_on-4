{
  "nbformat": 4,
  "nbformat_minor": 0,
  "metadata": {
    "colab": {
      "provenance": [],
      "authorship_tag": "ABX9TyOqOo2qBcERpZdVdlpvdXSm",
      "include_colab_link": true
    },
    "kernelspec": {
      "name": "python3",
      "display_name": "Python 3"
    },
    "language_info": {
      "name": "python"
    }
  },
  "cells": [
    {
      "cell_type": "markdown",
      "metadata": {
        "id": "view-in-github",
        "colab_type": "text"
      },
      "source": [
        "<a href=\"https://colab.research.google.com/github/LIKHITHREDDY95/Hand_on-4/blob/main/fibonacchi.ipynb\" target=\"_parent\"><img src=\"https://colab.research.google.com/assets/colab-badge.svg\" alt=\"Open In Colab\"/></a>"
      ]
    },
    {
      "cell_type": "code",
      "execution_count": 1,
      "metadata": {
        "colab": {
          "base_uri": "https://localhost:8080/"
        },
        "id": "joYtxXHxJBty",
        "outputId": "dcc7d572-4919-4844-adaa-2543943c3645"
      },
      "outputs": [
        {
          "output_type": "stream",
          "name": "stdout",
          "text": [
            "fib(5):\n",
            " On fib(5)\n",
            " finding fib(4) + fib(3)\n",
            "   On fib(4)\n",
            "   finding fib(3) + fib(2)\n",
            "     On fib(3)\n",
            "     finding fib(2) + fib(1)\n",
            "       On fib(2)\n",
            "       finding fib(1) + fib(0)\n",
            "         On fib(1)\n",
            "        n == 1, returns 1\n",
            "         On fib(0)\n",
            "        n == 0, returns 0\n",
            "      fib(2) = 1\n",
            "       On fib(1)\n",
            "      n == 1, returns 1\n",
            "    fib(3) = 2\n",
            "     On fib(2)\n",
            "     finding fib(1) + fib(0)\n",
            "       On fib(1)\n",
            "      n == 1, returns 1\n",
            "       On fib(0)\n",
            "      n == 0, returns 0\n",
            "    fib(2) = 1\n",
            "  fib(4) = 3\n",
            "   On fib(3)\n",
            "   finding fib(2) + fib(1)\n",
            "     On fib(2)\n",
            "     finding fib(1) + fib(0)\n",
            "       On fib(1)\n",
            "      n == 1, returns 1\n",
            "       On fib(0)\n",
            "      n == 0, returns 0\n",
            "    fib(2) = 1\n",
            "     On fib(1)\n",
            "    n == 1, returns 1\n",
            "  fib(3) = 2\n",
            "fib(5) = 5\n",
            "\n",
            "result: fib(5) = 5\n"
          ]
        }
      ],
      "source": [
        "def fib(n, step=0):\n",
        "    indent = \"  \" * step\n",
        "    print(f\"{indent} On fib({n})\")\n",
        "\n",
        "    if n == 0:\n",
        "        print(f\"{indent}n == 0, returns 0\")\n",
        "        return 0\n",
        "    if n == 1:\n",
        "        print(f\"{indent}n == 1, returns 1\")\n",
        "        return 1\n",
        "\n",
        "    print(f\"{indent} finding fib({n - 1}) + fib({n - 2})\")\n",
        "    result = fib(n - 1, step + 1) + fib(n - 2, step + 1)\n",
        "\n",
        "    print(f\"{indent}fib({n}) = {result}\")\n",
        "    return result\n",
        "\n",
        "print(\"fib(5):\")\n",
        "result = fib(5)\n",
        "print(f\"\\nresult: fib(5) = {result}\")"
      ]
    }
  ]
}